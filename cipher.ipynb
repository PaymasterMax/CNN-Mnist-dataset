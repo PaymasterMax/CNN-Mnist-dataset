{
 "cells": [
  {
   "cell_type": "code",
   "execution_count": 2,
   "id": "92e340d0-269c-4b74-b9a3-2354b99a00be",
   "metadata": {},
   "outputs": [],
   "source": [
    "import tensorflow as tf,numpy as np\n",
    "from matplotlib import pyplot as plt"
   ]
  },
  {
   "cell_type": "code",
   "execution_count": 3,
   "id": "58c9e713-c713-4244-ad09-b2dc6f121f49",
   "metadata": {},
   "outputs": [],
   "source": [
    "(X_train,y_train),(X_test,y_test) = tf.keras.datasets.mnist.load_data()"
   ]
  },
  {
   "cell_type": "code",
   "execution_count": 4,
   "id": "96ce5752-72d9-4d08-a767-802dea1d1eea",
   "metadata": {},
   "outputs": [
    {
     "data": {
      "text/plain": [
       "((60000, 28, 28), (60000,))"
      ]
     },
     "execution_count": 4,
     "metadata": {},
     "output_type": "execute_result"
    }
   ],
   "source": [
    "X_train.shape,y_train.shape"
   ]
  },
  {
   "cell_type": "code",
   "execution_count": 5,
   "id": "4dd07e47-ba2c-499f-820c-291d331ab133",
   "metadata": {},
   "outputs": [],
   "source": [
    "X_tr,X_tes = X_train/255,X_test/255\n",
    "X_tr,X_tes = X_tr.reshape(len(X_tr),28,28,1),X_tes.reshape(len(X_tes),28,28,1)"
   ]
  },
  {
   "cell_type": "code",
   "execution_count": 6,
   "id": "227c4566-dea0-4ff2-a9ad-f47109324491",
   "metadata": {},
   "outputs": [
    {
     "data": {
      "text/plain": [
       "(60000, 28, 28, 1)"
      ]
     },
     "execution_count": 6,
     "metadata": {},
     "output_type": "execute_result"
    }
   ],
   "source": [
    "X_tr.shape"
   ]
  },
  {
   "cell_type": "code",
   "execution_count": null,
   "id": "8feeb602-24df-46a0-9d8a-c4f935094d13",
   "metadata": {},
   "outputs": [
    {
     "name": "stdout",
     "output_type": "stream",
     "text": [
      "Epoch 1/4\n",
      "1875/1875 [==============================] - 288s 151ms/step - loss: 0.2471 - accuracy: 0.9232\n",
      "Epoch 2/4\n",
      " 573/1875 [========>.....................] - ETA: 3:15 - loss: 0.0444 - accuracy: 0.9861"
     ]
    }
   ],
   "source": [
    "np.random.seed(42)\n",
    "model = tf.keras.models.Sequential([\n",
    "        tf.keras.layers.Conv2D(64,(2,2),input_shape = (28,28,1),activation = \"relu\"),\n",
    "        tf.keras.layers.MaxPool2D(2,2),\n",
    "    \n",
    "        tf.keras.layers.Flatten(),\n",
    "    \n",
    "        tf.keras.layers.Dense(784,activation=\"relu\"),\n",
    "        tf.keras.layers.Dense(10,activation = \"sigmoid\")\n",
    "])\n",
    "\n",
    "model.compile(\n",
    "    loss = \"sparse_categorical_crossentropy\",\n",
    "    metrics = [\"accuracy\",],\n",
    "    optimizer = \"adam\",\n",
    ")\n",
    "\n",
    "model.fit(X_tr,y_train,epochs=4,batch_size = 32)\n",
    "model.evaluate(X_tr,y_train)"
   ]
  },
  {
   "cell_type": "code",
   "execution_count": null,
   "id": "47cce275-ece4-44a5-abea-e6df34d2e2e8",
   "metadata": {},
   "outputs": [],
   "source": [
    "model.evaluate(X_tes,y_test)"
   ]
  },
  {
   "cell_type": "code",
   "execution_count": null,
   "id": "f569c21f-2f51-4c6b-b5a1-aeff2fea55e0",
   "metadata": {},
   "outputs": [],
   "source": [
    "model.predict(X_tr)"
   ]
  },
  {
   "cell_type": "code",
   "execution_count": null,
   "id": "80672557-9a04-45d4-bf8b-960059555814",
   "metadata": {},
   "outputs": [],
   "source": [
    "model.summary()"
   ]
  },
  {
   "cell_type": "code",
   "execution_count": null,
   "id": "0af53a7f-af75-4ca5-8824-f46e937f7f02",
   "metadata": {},
   "outputs": [],
   "source": []
  },
  {
   "cell_type": "code",
   "execution_count": null,
   "id": "a62d14b5-8067-49a8-9011-109630f08b2d",
   "metadata": {},
   "outputs": [],
   "source": [
    "(X_train,y_train),(X_test,y_test) = tf.keras.datasets.mnist.load_fashion_mnist()"
   ]
  },
  {
   "cell_type": "code",
   "execution_count": null,
   "id": "383f4aaa-9453-48c6-a483-457c81cb150f",
   "metadata": {},
   "outputs": [],
   "source": []
  },
  {
   "cell_type": "code",
   "execution_count": null,
   "id": "fc38074d-a50e-4ade-a15f-3a20f2493f4e",
   "metadata": {},
   "outputs": [],
   "source": []
  }
 ],
 "metadata": {
  "kernelspec": {
   "display_name": "Python 3",
   "language": "python",
   "name": "python3"
  },
  "language_info": {
   "codemirror_mode": {
    "name": "ipython",
    "version": 3
   },
   "file_extension": ".py",
   "mimetype": "text/x-python",
   "name": "python",
   "nbconvert_exporter": "python",
   "pygments_lexer": "ipython3",
   "version": "3.8.8"
  },
  "widgets": {
   "application/vnd.jupyter.widget-state+json": {
    "state": {},
    "version_major": 2,
    "version_minor": 0
   }
  }
 },
 "nbformat": 4,
 "nbformat_minor": 5
}
